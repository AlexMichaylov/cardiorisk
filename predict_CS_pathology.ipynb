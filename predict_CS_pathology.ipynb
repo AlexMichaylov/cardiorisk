{
 "cells": [
  {
   "cell_type": "code",
   "execution_count": 530,
   "metadata": {
    "collapsed": true,
    "pycharm": {
     "name": "#%%\n"
    }
   },
   "outputs": [],
   "source": [
    "# импорты сторонних библиотек\n",
    "\n",
    "import pandas as pd\n",
    "import seaborn as sns\n",
    "import numpy as np\n",
    "import matplotlib.pyplot as plt\n",
    "import optuna\n",
    "import pickle\n",
    "\n",
    "\n",
    "# импорты модулей текущего проекта\n",
    "from pickle import dump, load\n",
    "from sklearn.preprocessing import RobustScaler\n",
    "from sklearn.pipeline import Pipeline\n",
    "from tqdm import tqdm, trange\n",
    "from sklearn.model_selection import train_test_split\n",
    "from sklearn.preprocessing import StandardScaler\n",
    "from sklearn.preprocessing import OneHotEncoder\n",
    "from sklearn.tree import DecisionTreeClassifier\n",
    "from sklearn.ensemble import RandomForestClassifier\n",
    "from sklearn.linear_model import LogisticRegression\n",
    "from sklearn.metrics import accuracy_score\n",
    "from sklearn.metrics import f1_score\n",
    "from sklearn.metrics import roc_auc_score\n",
    "from sklearn.metrics import recall_score\n",
    "from sklearn.utils import shuffle\n",
    "from sklearn.metrics import roc_curve\n",
    "from sklearn.metrics import confusion_matrix\n",
    "from sklearn.model_selection import RandomizedSearchCV\n",
    "from sklearn.model_selection import cross_val_score\n",
    "from sklearn.metrics import confusion_matrix\n",
    "from sklearn.model_selection import cross_val_score"
   ]
  },
  {
   "cell_type": "code",
   "execution_count": 531,
   "outputs": [],
   "source": [
    "    df_train = pd.read_csv('train.csv')\n",
    "    df_test = pd.read_csv('test.csv')\n",
    "\n",
    "#изначально обрежем значения до 3 знака после запятой при воспроизведении\n",
    "pd.set_option('display.float_format', lambda x: '%.3f' % x)\n",
    "#для удобства отображения таблиц\n",
    "pd.options.display.max_columns = 100"
   ],
   "metadata": {
    "collapsed": false,
    "pycharm": {
     "name": "#%%\n"
    }
   }
  },
  {
   "cell_type": "markdown",
   "source": [
    "### <a id='toc1_1_1_'></a>[Шаг 2. Предобработка и исследовательский анализ данных](#toc0_)"
   ],
   "metadata": {
    "collapsed": false,
    "pycharm": {
     "name": "#%% md\n"
    }
   }
  },
  {
   "cell_type": "code",
   "execution_count": 532,
   "outputs": [
    {
     "data": {
      "text/plain": "   id    age  gender  height  weight  ap_hi  ap_lo  cholesterol  gluc  smoke  \\\n0   0  18393       2     168  62.000    110     80            1     1      0   \n1   1  20228       1     156  85.000    140     90            3     1      0   \n2   2  18857       1     165  64.000    130     70            3     1      0   \n3   3  17623       2     169  82.000    150    100            1     1      0   \n4   4  17474       1     156  56.000    100     60            1     1      0   \n5   8  21914       1     151  67.000    120     80            2     2      0   \n6   9  22113       1     157  93.000    130     80            3     1      0   \n7  12  22584       2     178  95.000    130     90            3     3      0   \n8  13  17668       1     158  71.000    110     70            1     1      0   \n9  14  19834       1     164  68.000    110     60            1     1      0   \n\n   alco  active  cardio  \n0     0       1       0  \n1     0       1       1  \n2     0       0       1  \n3     0       1       1  \n4     0       0       0  \n5     0       0       0  \n6     0       1       0  \n7     0       1       1  \n8     0       1       0  \n9     0       0       0  ",
      "text/html": "<div>\n<style scoped>\n    .dataframe tbody tr th:only-of-type {\n        vertical-align: middle;\n    }\n\n    .dataframe tbody tr th {\n        vertical-align: top;\n    }\n\n    .dataframe thead th {\n        text-align: right;\n    }\n</style>\n<table border=\"1\" class=\"dataframe\">\n  <thead>\n    <tr style=\"text-align: right;\">\n      <th></th>\n      <th>id</th>\n      <th>age</th>\n      <th>gender</th>\n      <th>height</th>\n      <th>weight</th>\n      <th>ap_hi</th>\n      <th>ap_lo</th>\n      <th>cholesterol</th>\n      <th>gluc</th>\n      <th>smoke</th>\n      <th>alco</th>\n      <th>active</th>\n      <th>cardio</th>\n    </tr>\n  </thead>\n  <tbody>\n    <tr>\n      <th>0</th>\n      <td>0</td>\n      <td>18393</td>\n      <td>2</td>\n      <td>168</td>\n      <td>62.000</td>\n      <td>110</td>\n      <td>80</td>\n      <td>1</td>\n      <td>1</td>\n      <td>0</td>\n      <td>0</td>\n      <td>1</td>\n      <td>0</td>\n    </tr>\n    <tr>\n      <th>1</th>\n      <td>1</td>\n      <td>20228</td>\n      <td>1</td>\n      <td>156</td>\n      <td>85.000</td>\n      <td>140</td>\n      <td>90</td>\n      <td>3</td>\n      <td>1</td>\n      <td>0</td>\n      <td>0</td>\n      <td>1</td>\n      <td>1</td>\n    </tr>\n    <tr>\n      <th>2</th>\n      <td>2</td>\n      <td>18857</td>\n      <td>1</td>\n      <td>165</td>\n      <td>64.000</td>\n      <td>130</td>\n      <td>70</td>\n      <td>3</td>\n      <td>1</td>\n      <td>0</td>\n      <td>0</td>\n      <td>0</td>\n      <td>1</td>\n    </tr>\n    <tr>\n      <th>3</th>\n      <td>3</td>\n      <td>17623</td>\n      <td>2</td>\n      <td>169</td>\n      <td>82.000</td>\n      <td>150</td>\n      <td>100</td>\n      <td>1</td>\n      <td>1</td>\n      <td>0</td>\n      <td>0</td>\n      <td>1</td>\n      <td>1</td>\n    </tr>\n    <tr>\n      <th>4</th>\n      <td>4</td>\n      <td>17474</td>\n      <td>1</td>\n      <td>156</td>\n      <td>56.000</td>\n      <td>100</td>\n      <td>60</td>\n      <td>1</td>\n      <td>1</td>\n      <td>0</td>\n      <td>0</td>\n      <td>0</td>\n      <td>0</td>\n    </tr>\n    <tr>\n      <th>5</th>\n      <td>8</td>\n      <td>21914</td>\n      <td>1</td>\n      <td>151</td>\n      <td>67.000</td>\n      <td>120</td>\n      <td>80</td>\n      <td>2</td>\n      <td>2</td>\n      <td>0</td>\n      <td>0</td>\n      <td>0</td>\n      <td>0</td>\n    </tr>\n    <tr>\n      <th>6</th>\n      <td>9</td>\n      <td>22113</td>\n      <td>1</td>\n      <td>157</td>\n      <td>93.000</td>\n      <td>130</td>\n      <td>80</td>\n      <td>3</td>\n      <td>1</td>\n      <td>0</td>\n      <td>0</td>\n      <td>1</td>\n      <td>0</td>\n    </tr>\n    <tr>\n      <th>7</th>\n      <td>12</td>\n      <td>22584</td>\n      <td>2</td>\n      <td>178</td>\n      <td>95.000</td>\n      <td>130</td>\n      <td>90</td>\n      <td>3</td>\n      <td>3</td>\n      <td>0</td>\n      <td>0</td>\n      <td>1</td>\n      <td>1</td>\n    </tr>\n    <tr>\n      <th>8</th>\n      <td>13</td>\n      <td>17668</td>\n      <td>1</td>\n      <td>158</td>\n      <td>71.000</td>\n      <td>110</td>\n      <td>70</td>\n      <td>1</td>\n      <td>1</td>\n      <td>0</td>\n      <td>0</td>\n      <td>1</td>\n      <td>0</td>\n    </tr>\n    <tr>\n      <th>9</th>\n      <td>14</td>\n      <td>19834</td>\n      <td>1</td>\n      <td>164</td>\n      <td>68.000</td>\n      <td>110</td>\n      <td>60</td>\n      <td>1</td>\n      <td>1</td>\n      <td>0</td>\n      <td>0</td>\n      <td>0</td>\n      <td>0</td>\n    </tr>\n  </tbody>\n</table>\n</div>"
     },
     "execution_count": 532,
     "metadata": {},
     "output_type": "execute_result"
    }
   ],
   "source": [
    "df_train.head(10)"
   ],
   "metadata": {
    "collapsed": false,
    "pycharm": {
     "name": "#%%\n"
    }
   }
  },
  {
   "cell_type": "code",
   "execution_count": 533,
   "outputs": [
    {
     "data": {
      "text/plain": "   id    age  gender  height  weight  ap_hi  ap_lo  cholesterol  gluc  smoke  \\\n0   5  18888       1     154  85.000    130     80            1     1      0   \n1   6  19042       2     170  69.000    130     90            1     1      0   \n2   7  20432       1     160  70.000    120     75            1     1      0   \n3  10  18133       2     185  94.000    130     90            1     1      0   \n4  11  16093       2     170  76.000    120     80            1     1      0   \n\n   alco  active  \n0     0       1  \n1     0       1  \n2     0       0  \n3     0       1  \n4     0       1  ",
      "text/html": "<div>\n<style scoped>\n    .dataframe tbody tr th:only-of-type {\n        vertical-align: middle;\n    }\n\n    .dataframe tbody tr th {\n        vertical-align: top;\n    }\n\n    .dataframe thead th {\n        text-align: right;\n    }\n</style>\n<table border=\"1\" class=\"dataframe\">\n  <thead>\n    <tr style=\"text-align: right;\">\n      <th></th>\n      <th>id</th>\n      <th>age</th>\n      <th>gender</th>\n      <th>height</th>\n      <th>weight</th>\n      <th>ap_hi</th>\n      <th>ap_lo</th>\n      <th>cholesterol</th>\n      <th>gluc</th>\n      <th>smoke</th>\n      <th>alco</th>\n      <th>active</th>\n    </tr>\n  </thead>\n  <tbody>\n    <tr>\n      <th>0</th>\n      <td>5</td>\n      <td>18888</td>\n      <td>1</td>\n      <td>154</td>\n      <td>85.000</td>\n      <td>130</td>\n      <td>80</td>\n      <td>1</td>\n      <td>1</td>\n      <td>0</td>\n      <td>0</td>\n      <td>1</td>\n    </tr>\n    <tr>\n      <th>1</th>\n      <td>6</td>\n      <td>19042</td>\n      <td>2</td>\n      <td>170</td>\n      <td>69.000</td>\n      <td>130</td>\n      <td>90</td>\n      <td>1</td>\n      <td>1</td>\n      <td>0</td>\n      <td>0</td>\n      <td>1</td>\n    </tr>\n    <tr>\n      <th>2</th>\n      <td>7</td>\n      <td>20432</td>\n      <td>1</td>\n      <td>160</td>\n      <td>70.000</td>\n      <td>120</td>\n      <td>75</td>\n      <td>1</td>\n      <td>1</td>\n      <td>0</td>\n      <td>0</td>\n      <td>0</td>\n    </tr>\n    <tr>\n      <th>3</th>\n      <td>10</td>\n      <td>18133</td>\n      <td>2</td>\n      <td>185</td>\n      <td>94.000</td>\n      <td>130</td>\n      <td>90</td>\n      <td>1</td>\n      <td>1</td>\n      <td>0</td>\n      <td>0</td>\n      <td>1</td>\n    </tr>\n    <tr>\n      <th>4</th>\n      <td>11</td>\n      <td>16093</td>\n      <td>2</td>\n      <td>170</td>\n      <td>76.000</td>\n      <td>120</td>\n      <td>80</td>\n      <td>1</td>\n      <td>1</td>\n      <td>0</td>\n      <td>0</td>\n      <td>1</td>\n    </tr>\n  </tbody>\n</table>\n</div>"
     },
     "execution_count": 533,
     "metadata": {},
     "output_type": "execute_result"
    }
   ],
   "source": [
    "df_test.head(5)"
   ],
   "metadata": {
    "collapsed": false,
    "pycharm": {
     "name": "#%%\n"
    }
   }
  },
  {
   "cell_type": "code",
   "execution_count": 534,
   "outputs": [
    {
     "name": "stdout",
     "output_type": "stream",
     "text": [
      "<class 'pandas.core.frame.DataFrame'>\n",
      "RangeIndex: 70000 entries, 0 to 69999\n",
      "Data columns (total 13 columns):\n",
      " #   Column       Non-Null Count  Dtype  \n",
      "---  ------       --------------  -----  \n",
      " 0   id           70000 non-null  int64  \n",
      " 1   age          70000 non-null  int64  \n",
      " 2   gender       70000 non-null  int64  \n",
      " 3   height       70000 non-null  int64  \n",
      " 4   weight       70000 non-null  float64\n",
      " 5   ap_hi        70000 non-null  int64  \n",
      " 6   ap_lo        70000 non-null  int64  \n",
      " 7   cholesterol  70000 non-null  int64  \n",
      " 8   gluc         70000 non-null  int64  \n",
      " 9   smoke        70000 non-null  int64  \n",
      " 10  alco         70000 non-null  int64  \n",
      " 11  active       70000 non-null  int64  \n",
      " 12  cardio       70000 non-null  int64  \n",
      "dtypes: float64(1), int64(12)\n",
      "memory usage: 6.9 MB\n"
     ]
    }
   ],
   "source": [
    "df_train.info()"
   ],
   "metadata": {
    "collapsed": false,
    "pycharm": {
     "name": "#%%\n"
    }
   }
  },
  {
   "cell_type": "code",
   "execution_count": 535,
   "outputs": [
    {
     "data": {
      "text/plain": "   id    age  gender  height  weight  ap_hi  ap_lo  cholesterol  gluc  smoke  \\\n0   5  18888       1     154  85.000    130     80            1     1      0   \n1   6  19042       2     170  69.000    130     90            1     1      0   \n2   7  20432       1     160  70.000    120     75            1     1      0   \n3  10  18133       2     185  94.000    130     90            1     1      0   \n4  11  16093       2     170  76.000    120     80            1     1      0   \n\n   alco  active  \n0     0       1  \n1     0       1  \n2     0       0  \n3     0       1  \n4     0       1  ",
      "text/html": "<div>\n<style scoped>\n    .dataframe tbody tr th:only-of-type {\n        vertical-align: middle;\n    }\n\n    .dataframe tbody tr th {\n        vertical-align: top;\n    }\n\n    .dataframe thead th {\n        text-align: right;\n    }\n</style>\n<table border=\"1\" class=\"dataframe\">\n  <thead>\n    <tr style=\"text-align: right;\">\n      <th></th>\n      <th>id</th>\n      <th>age</th>\n      <th>gender</th>\n      <th>height</th>\n      <th>weight</th>\n      <th>ap_hi</th>\n      <th>ap_lo</th>\n      <th>cholesterol</th>\n      <th>gluc</th>\n      <th>smoke</th>\n      <th>alco</th>\n      <th>active</th>\n    </tr>\n  </thead>\n  <tbody>\n    <tr>\n      <th>0</th>\n      <td>5</td>\n      <td>18888</td>\n      <td>1</td>\n      <td>154</td>\n      <td>85.000</td>\n      <td>130</td>\n      <td>80</td>\n      <td>1</td>\n      <td>1</td>\n      <td>0</td>\n      <td>0</td>\n      <td>1</td>\n    </tr>\n    <tr>\n      <th>1</th>\n      <td>6</td>\n      <td>19042</td>\n      <td>2</td>\n      <td>170</td>\n      <td>69.000</td>\n      <td>130</td>\n      <td>90</td>\n      <td>1</td>\n      <td>1</td>\n      <td>0</td>\n      <td>0</td>\n      <td>1</td>\n    </tr>\n    <tr>\n      <th>2</th>\n      <td>7</td>\n      <td>20432</td>\n      <td>1</td>\n      <td>160</td>\n      <td>70.000</td>\n      <td>120</td>\n      <td>75</td>\n      <td>1</td>\n      <td>1</td>\n      <td>0</td>\n      <td>0</td>\n      <td>0</td>\n    </tr>\n    <tr>\n      <th>3</th>\n      <td>10</td>\n      <td>18133</td>\n      <td>2</td>\n      <td>185</td>\n      <td>94.000</td>\n      <td>130</td>\n      <td>90</td>\n      <td>1</td>\n      <td>1</td>\n      <td>0</td>\n      <td>0</td>\n      <td>1</td>\n    </tr>\n    <tr>\n      <th>4</th>\n      <td>11</td>\n      <td>16093</td>\n      <td>2</td>\n      <td>170</td>\n      <td>76.000</td>\n      <td>120</td>\n      <td>80</td>\n      <td>1</td>\n      <td>1</td>\n      <td>0</td>\n      <td>0</td>\n      <td>1</td>\n    </tr>\n  </tbody>\n</table>\n</div>"
     },
     "execution_count": 535,
     "metadata": {},
     "output_type": "execute_result"
    }
   ],
   "source": [
    "df_test.head()"
   ],
   "metadata": {
    "collapsed": false,
    "pycharm": {
     "name": "#%%\n"
    }
   }
  },
  {
   "cell_type": "code",
   "execution_count": 536,
   "outputs": [
    {
     "data": {
      "text/plain": "<pandas.io.formats.style.Styler at 0x1900d086e50>",
      "text/html": "<style type=\"text/css\">\n#T_7c42b_row0_col0, #T_7c42b_row1_col0, #T_7c42b_row2_col0, #T_7c42b_row3_col0, #T_7c42b_row4_col0, #T_7c42b_row5_col0, #T_7c42b_row6_col0, #T_7c42b_row7_col0, #T_7c42b_row8_col0, #T_7c42b_row9_col0, #T_7c42b_row10_col0, #T_7c42b_row11_col0, #T_7c42b_row12_col0 {\n  background-color: #3b4cc0;\n  color: #f1f1f1;\n}\n</style>\n<table id=\"T_7c42b\">\n  <thead>\n    <tr>\n      <th class=\"blank level0\" >&nbsp;</th>\n      <th id=\"T_7c42b_level0_col0\" class=\"col_heading level0 col0\" >0</th>\n    </tr>\n  </thead>\n  <tbody>\n    <tr>\n      <th id=\"T_7c42b_level0_row0\" class=\"row_heading level0 row0\" >id</th>\n      <td id=\"T_7c42b_row0_col0\" class=\"data row0 col0\" >0.00</td>\n    </tr>\n    <tr>\n      <th id=\"T_7c42b_level0_row1\" class=\"row_heading level0 row1\" >age</th>\n      <td id=\"T_7c42b_row1_col0\" class=\"data row1 col0\" >0.00</td>\n    </tr>\n    <tr>\n      <th id=\"T_7c42b_level0_row2\" class=\"row_heading level0 row2\" >gender</th>\n      <td id=\"T_7c42b_row2_col0\" class=\"data row2 col0\" >0.00</td>\n    </tr>\n    <tr>\n      <th id=\"T_7c42b_level0_row3\" class=\"row_heading level0 row3\" >height</th>\n      <td id=\"T_7c42b_row3_col0\" class=\"data row3 col0\" >0.00</td>\n    </tr>\n    <tr>\n      <th id=\"T_7c42b_level0_row4\" class=\"row_heading level0 row4\" >weight</th>\n      <td id=\"T_7c42b_row4_col0\" class=\"data row4 col0\" >0.00</td>\n    </tr>\n    <tr>\n      <th id=\"T_7c42b_level0_row5\" class=\"row_heading level0 row5\" >ap_hi</th>\n      <td id=\"T_7c42b_row5_col0\" class=\"data row5 col0\" >0.00</td>\n    </tr>\n    <tr>\n      <th id=\"T_7c42b_level0_row6\" class=\"row_heading level0 row6\" >ap_lo</th>\n      <td id=\"T_7c42b_row6_col0\" class=\"data row6 col0\" >0.00</td>\n    </tr>\n    <tr>\n      <th id=\"T_7c42b_level0_row7\" class=\"row_heading level0 row7\" >cholesterol</th>\n      <td id=\"T_7c42b_row7_col0\" class=\"data row7 col0\" >0.00</td>\n    </tr>\n    <tr>\n      <th id=\"T_7c42b_level0_row8\" class=\"row_heading level0 row8\" >gluc</th>\n      <td id=\"T_7c42b_row8_col0\" class=\"data row8 col0\" >0.00</td>\n    </tr>\n    <tr>\n      <th id=\"T_7c42b_level0_row9\" class=\"row_heading level0 row9\" >smoke</th>\n      <td id=\"T_7c42b_row9_col0\" class=\"data row9 col0\" >0.00</td>\n    </tr>\n    <tr>\n      <th id=\"T_7c42b_level0_row10\" class=\"row_heading level0 row10\" >alco</th>\n      <td id=\"T_7c42b_row10_col0\" class=\"data row10 col0\" >0.00</td>\n    </tr>\n    <tr>\n      <th id=\"T_7c42b_level0_row11\" class=\"row_heading level0 row11\" >active</th>\n      <td id=\"T_7c42b_row11_col0\" class=\"data row11 col0\" >0.00</td>\n    </tr>\n    <tr>\n      <th id=\"T_7c42b_level0_row12\" class=\"row_heading level0 row12\" >cardio</th>\n      <td id=\"T_7c42b_row12_col0\" class=\"data row12 col0\" >0.00</td>\n    </tr>\n  </tbody>\n</table>\n"
     },
     "execution_count": 536,
     "metadata": {},
     "output_type": "execute_result"
    }
   ],
   "source": [
    "pd.DataFrame(round(df_train.isna().mean()*100,)).style.background_gradient('coolwarm').format(\"{:.2f}\")"
   ],
   "metadata": {
    "collapsed": false,
    "pycharm": {
     "name": "#%%\n"
    }
   }
  },
  {
   "cell_type": "markdown",
   "source": [
    " видим, что пропусков нет\n"
   ],
   "metadata": {
    "collapsed": false,
    "pycharm": {
     "name": "#%% md\n"
    }
   }
  },
  {
   "cell_type": "markdown",
   "source": [
    "изучим общую информацию о датасете и оценим соответствие типов данных признакам"
   ],
   "metadata": {
    "collapsed": false,
    "pycharm": {
     "name": "#%% md\n"
    }
   }
  },
  {
   "cell_type": "code",
   "execution_count": 537,
   "outputs": [
    {
     "name": "stdout",
     "output_type": "stream",
     "text": [
      "Проверим датафрейм на дубликаты в обоих датасетах\n",
      "0\n"
     ]
    }
   ],
   "source": [
    "print ('Проверим датафрейм на дубликаты в обоих датасетах')\n",
    "print (df_train.duplicated().sum())"
   ],
   "metadata": {
    "collapsed": false,
    "pycharm": {
     "name": "#%%\n"
    }
   }
  },
  {
   "cell_type": "markdown",
   "source": [
    "временно удалим id, чтобы посмотреть имеются ли полные дубликаты, отличающиеся исключительно номером id. По кол-ву таких дубликатов примем решение о том, что с ними необходимо сделать."
   ],
   "metadata": {
    "collapsed": false,
    "pycharm": {
     "name": "#%% md\n"
    }
   }
  },
  {
   "cell_type": "code",
   "execution_count": 538,
   "outputs": [
    {
     "name": "stdout",
     "output_type": "stream",
     "text": [
      "False    69976\n",
      "True        24\n",
      "dtype: int64\n"
     ]
    }
   ],
   "source": [
    "df_without_id_train = df_train.drop(columns = ['id'], axis = 1)\n",
    "print (df_without_id_train.duplicated(keep= 'last').value_counts())"
   ],
   "metadata": {
    "collapsed": false,
    "pycharm": {
     "name": "#%%\n"
    }
   }
  },
  {
   "cell_type": "markdown",
   "source": [
    "Итак, по результату исследования видим, что кол-во полных дубликатов 24 штуки. Поскольку кол-во дубликатов небольшое - удалим их."
   ],
   "metadata": {
    "collapsed": false,
    "pycharm": {
     "name": "#%% md\n"
    }
   }
  },
  {
   "cell_type": "code",
   "execution_count": 539,
   "outputs": [],
   "source": [
    "#df_train = df_without_id_train['id'].drop_duplicates()"
   ],
   "metadata": {
    "collapsed": false,
    "pycharm": {
     "name": "#%%\n"
    }
   }
  },
  {
   "cell_type": "code",
   "execution_count": 540,
   "outputs": [
    {
     "name": "stdout",
     "output_type": "stream",
     "text": [
      "<class 'pandas.core.frame.DataFrame'>\n",
      "RangeIndex: 70000 entries, 0 to 69999\n",
      "Data columns (total 13 columns):\n",
      " #   Column       Non-Null Count  Dtype  \n",
      "---  ------       --------------  -----  \n",
      " 0   id           70000 non-null  int64  \n",
      " 1   age          70000 non-null  int64  \n",
      " 2   gender       70000 non-null  int64  \n",
      " 3   height       70000 non-null  int64  \n",
      " 4   weight       70000 non-null  float64\n",
      " 5   ap_hi        70000 non-null  int64  \n",
      " 6   ap_lo        70000 non-null  int64  \n",
      " 7   cholesterol  70000 non-null  int64  \n",
      " 8   gluc         70000 non-null  int64  \n",
      " 9   smoke        70000 non-null  int64  \n",
      " 10  alco         70000 non-null  int64  \n",
      " 11  active       70000 non-null  int64  \n",
      " 12  cardio       70000 non-null  int64  \n",
      "dtypes: float64(1), int64(12)\n",
      "memory usage: 6.9 MB\n"
     ]
    }
   ],
   "source": [
    "df_train.info()"
   ],
   "metadata": {
    "collapsed": false,
    "pycharm": {
     "name": "#%%\n"
    }
   }
  },
  {
   "cell_type": "markdown",
   "source": [
    "по результатам обработки видим, что дубликаты удалены; тип данных полностью соответствует признакам, находящимся в таблице."
   ],
   "metadata": {
    "collapsed": false,
    "pycharm": {
     "name": "#%% md\n"
    }
   }
  },
  {
   "cell_type": "markdown",
   "source": [
    "МОЖНО ИДТИ ДАЛЬШЕ. Применим описательную статистику для описания датасета. - **Информация предоставленная методом .describe() поможет нам выбрать нужный спсоб заполнения пропущенных значений, при наличии пропусков** Намного интереснее будет ниже обзорно взглянуть на данные через гистограммы - понять какие именно колонки целесообразно изучить подробнее - проработать эти колонки через графики boxplot и уже для них прицельно изучить описательную статистику."
   ],
   "metadata": {
    "collapsed": false,
    "pycharm": {
     "name": "#%% md\n"
    }
   }
  },
  {
   "cell_type": "code",
   "execution_count": 541,
   "outputs": [],
   "source": [
    "df_train['age'] = df_train['age'] / 365\n",
    "df_test['age'] = df_test['age'] / 365"
   ],
   "metadata": {
    "collapsed": false,
    "pycharm": {
     "name": "#%%\n"
    }
   }
  },
  {
   "cell_type": "code",
   "execution_count": 542,
   "outputs": [],
   "source": [
    "df_train['age'] = df_train['age'].astype (float)\n",
    "\n",
    "df_test['age'] = df_test['age'].astype (float)"
   ],
   "metadata": {
    "collapsed": false,
    "pycharm": {
     "name": "#%%\n"
    }
   }
  },
  {
   "cell_type": "code",
   "execution_count": 543,
   "outputs": [
    {
     "name": "stdout",
     "output_type": "stream",
     "text": [
      "<class 'pandas.core.frame.DataFrame'>\n",
      "RangeIndex: 70000 entries, 0 to 69999\n",
      "Data columns (total 13 columns):\n",
      " #   Column       Non-Null Count  Dtype  \n",
      "---  ------       --------------  -----  \n",
      " 0   id           70000 non-null  int64  \n",
      " 1   age          70000 non-null  float64\n",
      " 2   gender       70000 non-null  int64  \n",
      " 3   height       70000 non-null  int64  \n",
      " 4   weight       70000 non-null  float64\n",
      " 5   ap_hi        70000 non-null  int64  \n",
      " 6   ap_lo        70000 non-null  int64  \n",
      " 7   cholesterol  70000 non-null  int64  \n",
      " 8   gluc         70000 non-null  int64  \n",
      " 9   smoke        70000 non-null  int64  \n",
      " 10  alco         70000 non-null  int64  \n",
      " 11  active       70000 non-null  int64  \n",
      " 12  cardio       70000 non-null  int64  \n",
      "dtypes: float64(2), int64(11)\n",
      "memory usage: 6.9 MB\n"
     ]
    }
   ],
   "source": [
    "df_train.info()"
   ],
   "metadata": {
    "collapsed": false,
    "pycharm": {
     "name": "#%%\n"
    }
   }
  },
  {
   "cell_type": "code",
   "execution_count": 544,
   "outputs": [
    {
     "data": {
      "text/plain": "             id       age    gender    height    weight     ap_hi     ap_lo  \\\ncount 70000.000 70000.000 70000.000 70000.000 70000.000 70000.000 70000.000   \nmean  49972.420    53.339     1.350   164.359    74.206   128.817    96.630   \nstd   28851.302     6.760     0.477     8.210    14.396   154.011   188.473   \nmin       0.000    29.584     1.000    55.000    10.000  -150.000   -70.000   \n25%   25006.750    48.395     1.000   159.000    65.000   120.000    80.000   \n50%   50001.500    53.981     1.000   165.000    72.000   120.000    80.000   \n75%   74889.250    58.430     2.000   170.000    82.000   140.000    90.000   \nmax   99999.000    64.967     2.000   250.000   200.000 16020.000 11000.000   \n\n       cholesterol      gluc     smoke      alco    active    cardio  \ncount    70000.000 70000.000 70000.000 70000.000 70000.000 70000.000  \nmean         1.367     1.226     0.088     0.054     0.804     0.500  \nstd          0.680     0.572     0.283     0.226     0.397     0.500  \nmin          1.000     1.000     0.000     0.000     0.000     0.000  \n25%          1.000     1.000     0.000     0.000     1.000     0.000  \n50%          1.000     1.000     0.000     0.000     1.000     0.000  \n75%          2.000     1.000     0.000     0.000     1.000     1.000  \nmax          3.000     3.000     1.000     1.000     1.000     1.000  ",
      "text/html": "<div>\n<style scoped>\n    .dataframe tbody tr th:only-of-type {\n        vertical-align: middle;\n    }\n\n    .dataframe tbody tr th {\n        vertical-align: top;\n    }\n\n    .dataframe thead th {\n        text-align: right;\n    }\n</style>\n<table border=\"1\" class=\"dataframe\">\n  <thead>\n    <tr style=\"text-align: right;\">\n      <th></th>\n      <th>id</th>\n      <th>age</th>\n      <th>gender</th>\n      <th>height</th>\n      <th>weight</th>\n      <th>ap_hi</th>\n      <th>ap_lo</th>\n      <th>cholesterol</th>\n      <th>gluc</th>\n      <th>smoke</th>\n      <th>alco</th>\n      <th>active</th>\n      <th>cardio</th>\n    </tr>\n  </thead>\n  <tbody>\n    <tr>\n      <th>count</th>\n      <td>70000.000</td>\n      <td>70000.000</td>\n      <td>70000.000</td>\n      <td>70000.000</td>\n      <td>70000.000</td>\n      <td>70000.000</td>\n      <td>70000.000</td>\n      <td>70000.000</td>\n      <td>70000.000</td>\n      <td>70000.000</td>\n      <td>70000.000</td>\n      <td>70000.000</td>\n      <td>70000.000</td>\n    </tr>\n    <tr>\n      <th>mean</th>\n      <td>49972.420</td>\n      <td>53.339</td>\n      <td>1.350</td>\n      <td>164.359</td>\n      <td>74.206</td>\n      <td>128.817</td>\n      <td>96.630</td>\n      <td>1.367</td>\n      <td>1.226</td>\n      <td>0.088</td>\n      <td>0.054</td>\n      <td>0.804</td>\n      <td>0.500</td>\n    </tr>\n    <tr>\n      <th>std</th>\n      <td>28851.302</td>\n      <td>6.760</td>\n      <td>0.477</td>\n      <td>8.210</td>\n      <td>14.396</td>\n      <td>154.011</td>\n      <td>188.473</td>\n      <td>0.680</td>\n      <td>0.572</td>\n      <td>0.283</td>\n      <td>0.226</td>\n      <td>0.397</td>\n      <td>0.500</td>\n    </tr>\n    <tr>\n      <th>min</th>\n      <td>0.000</td>\n      <td>29.584</td>\n      <td>1.000</td>\n      <td>55.000</td>\n      <td>10.000</td>\n      <td>-150.000</td>\n      <td>-70.000</td>\n      <td>1.000</td>\n      <td>1.000</td>\n      <td>0.000</td>\n      <td>0.000</td>\n      <td>0.000</td>\n      <td>0.000</td>\n    </tr>\n    <tr>\n      <th>25%</th>\n      <td>25006.750</td>\n      <td>48.395</td>\n      <td>1.000</td>\n      <td>159.000</td>\n      <td>65.000</td>\n      <td>120.000</td>\n      <td>80.000</td>\n      <td>1.000</td>\n      <td>1.000</td>\n      <td>0.000</td>\n      <td>0.000</td>\n      <td>1.000</td>\n      <td>0.000</td>\n    </tr>\n    <tr>\n      <th>50%</th>\n      <td>50001.500</td>\n      <td>53.981</td>\n      <td>1.000</td>\n      <td>165.000</td>\n      <td>72.000</td>\n      <td>120.000</td>\n      <td>80.000</td>\n      <td>1.000</td>\n      <td>1.000</td>\n      <td>0.000</td>\n      <td>0.000</td>\n      <td>1.000</td>\n      <td>0.000</td>\n    </tr>\n    <tr>\n      <th>75%</th>\n      <td>74889.250</td>\n      <td>58.430</td>\n      <td>2.000</td>\n      <td>170.000</td>\n      <td>82.000</td>\n      <td>140.000</td>\n      <td>90.000</td>\n      <td>2.000</td>\n      <td>1.000</td>\n      <td>0.000</td>\n      <td>0.000</td>\n      <td>1.000</td>\n      <td>1.000</td>\n    </tr>\n    <tr>\n      <th>max</th>\n      <td>99999.000</td>\n      <td>64.967</td>\n      <td>2.000</td>\n      <td>250.000</td>\n      <td>200.000</td>\n      <td>16020.000</td>\n      <td>11000.000</td>\n      <td>3.000</td>\n      <td>3.000</td>\n      <td>1.000</td>\n      <td>1.000</td>\n      <td>1.000</td>\n      <td>1.000</td>\n    </tr>\n  </tbody>\n</table>\n</div>"
     },
     "execution_count": 544,
     "metadata": {},
     "output_type": "execute_result"
    }
   ],
   "source": [
    "df_train.describe()"
   ],
   "metadata": {
    "collapsed": false,
    "pycharm": {
     "name": "#%%\n"
    }
   }
  },
  {
   "cell_type": "code",
   "execution_count": 545,
   "outputs": [
    {
     "data": {
      "text/plain": "<function matplotlib.pyplot.show(close=None, block=None)>"
     },
     "execution_count": 545,
     "metadata": {},
     "output_type": "execute_result"
    },
    {
     "data": {
      "text/plain": "<Figure size 1080x1440 with 16 Axes>",
      "image/png": "[encoded data removed]"
     },
     "metadata": {},
     "output_type": "display_data"
    }
   ],
   "source": [
    "df_train.hist(figsize=(15, 20))\n",
    "plt.show"
   ],
   "metadata": {
    "collapsed": false,
    "pycharm": {
     "name": "#%%\n"
    }
   }
  },
  {
   "cell_type": "code",
   "execution_count": 546,
   "outputs": [
    {
     "data": {
      "text/plain": "Index(['id', 'age', 'gender', 'height', 'weight', 'ap_hi', 'ap_lo',\n       'cholesterol', 'gluc', 'smoke', 'alco', 'active', 'cardio'],\n      dtype='object')"
     },
     "execution_count": 546,
     "metadata": {},
     "output_type": "execute_result"
    }
   ],
   "source": [
    "df_train.columns"
   ],
   "metadata": {
    "collapsed": false,
    "pycharm": {
     "name": "#%%\n"
    }
   }
  },
  {
   "cell_type": "code",
   "execution_count": 547,
   "outputs": [],
   "source": [
    "df_train = df_train.drop('id', axis = 1)"
   ],
   "metadata": {
    "collapsed": false,
    "pycharm": {
     "name": "#%%\n"
    }
   }
  },
  {
   "cell_type": "code",
   "execution_count": 548,
   "outputs": [],
   "source": [
    "df_test = df_test.drop('id', axis = 1)"
   ],
   "metadata": {
    "collapsed": false,
    "pycharm": {
     "name": "#%%\n"
    }
   }
  },
  {
   "cell_type": "markdown",
   "source": [
    "изучим некоторые признаки более подробно"
   ],
   "metadata": {
    "collapsed": false,
    "pycharm": {
     "name": "#%% md\n"
    }
   }
  },
  {
   "cell_type": "code",
   "execution_count": 549,
   "outputs": [
    {
     "data": {
      "text/plain": "count   70000.000\nmean       53.339\nstd         6.760\nmin        29.584\n25%        48.395\n50%        53.981\n75%        58.430\nmax        64.967\nName: age, dtype: float64"
     },
     "metadata": {},
     "output_type": "display_data"
    },
    {
     "name": "stdout",
     "output_type": "stream",
     "text": [
      "median  53.98082191780822\n"
     ]
    },
    {
     "data": {
      "text/plain": "<Figure size 288x576 with 1 Axes>",
      "image/png": "[encoded data removed]"
     },
     "metadata": {},
     "output_type": "display_data"
    },
    {
     "data": {
      "text/plain": "<Figure size 432x288 with 1 Axes>",
      "image/png": "[encoded data removed]"
     },
     "metadata": {},
     "output_type": "display_data"
    }
   ],
   "source": [
    "def basis_stat_f(target_column):\n",
    "    display(df_train[target_column].describe())\n",
    "    print('median ', df_train[target_column].median())\n",
    "    df_train.boxplot(column = target_column, figsize = (4,8))\n",
    "    plt.show()\n",
    "    df_train[target_column].hist(bins = 100)\n",
    "\n",
    "basis_stat_f('age')"
   ],
   "metadata": {
    "collapsed": false,
    "pycharm": {
     "name": "#%%\n"
    }
   }
  },
  {
   "cell_type": "markdown",
   "source": [
    "мы видим выбросы по возрасту 30 лет. С одной стороны, мы понимаем, что риск развития заболеваний ССС в этом возрасте невелик. С другой стороны, опираясь на клинический опыт, приходилось видеть инфаркт миокарда и в 25 лет, но это не частое явление. Пока удалим."
   ],
   "metadata": {
    "collapsed": false,
    "pycharm": {
     "name": "#%% md\n"
    }
   }
  },
  {
   "cell_type": "code",
   "execution_count": 550,
   "outputs": [],
   "source": [
    "df_train = df_train.loc[df_train['age'] > 33]"
   ],
   "metadata": {
    "collapsed": false,
    "pycharm": {
     "name": "#%%\n"
    }
   }
  },
  {
   "cell_type": "markdown",
   "source": [
    "удостоверимся, что выбросы удалены"
   ],
   "metadata": {
    "collapsed": false,
    "pycharm": {
     "name": "#%% md\n"
    }
   }
  },
  {
   "cell_type": "code",
   "execution_count": 551,
   "outputs": [
    {
     "data": {
      "text/plain": "count   69996.000\nmean       53.341\nstd         6.757\nmin        39.110\n25%        48.397\n50%        53.981\n75%        58.430\nmax        64.967\nName: age, dtype: float64"
     },
     "metadata": {},
     "output_type": "display_data"
    },
    {
     "name": "stdout",
     "output_type": "stream",
     "text": [
      "median  53.98082191780822\n"
     ]
    },
    {
     "data": {
      "text/plain": "<Figure size 288x576 with 1 Axes>",
      "image/png": "[encoded data removed]"
     },
     "metadata": {},
     "output_type": "display_data"
    },
    {
     "data": {
      "text/plain": "<Figure size 432x288 with 1 Axes>",
      "image/png": "[encoded data removed]"
     },
     "metadata": {},
     "output_type": "display_data"
    }
   ],
   "source": [
    "basis_stat_f('age')"
   ],
   "metadata": {
    "collapsed": false,
    "pycharm": {
     "name": "#%%\n"
    }
   }
  },
  {
   "cell_type": "markdown",
   "source": [
    "все в порядке: идем далее"
   ],
   "metadata": {
    "collapsed": false,
    "pycharm": {
     "name": "#%% md\n"
    }
   }
  },
  {
   "cell_type": "code",
   "execution_count": 552,
   "outputs": [
    {
     "data": {
      "text/plain": "count   69996.000\nmean      164.359\nstd         8.210\nmin        55.000\n25%       159.000\n50%       165.000\n75%       170.000\nmax       250.000\nName: height, dtype: float64"
     },
     "metadata": {},
     "output_type": "display_data"
    },
    {
     "name": "stdout",
     "output_type": "stream",
     "text": [
      "median  165.0\n"
     ]
    },
    {
     "data": {
      "text/plain": "<Figure size 288x576 with 1 Axes>",
      "image/png": "[encoded data removed]"
     },
     "metadata": {},
     "output_type": "display_data"
    },
    {
     "data": {
      "text/plain": "<Figure size 432x288 with 1 Axes>",
      "image/png": "[encoded data removed]"
     },
     "metadata": {},
     "output_type": "display_data"
    }
   ],
   "source": [
    "basis_stat_f('height')"
   ],
   "metadata": {
    "collapsed": false,
    "pycharm": {
     "name": "#%%\n"
    }
   }
  },
  {
   "cell_type": "markdown",
   "source": [
    "на графике boxplot мы наблюдаем большое кол-во выбросов. Удалим все, что меньше 159 и больше 200"
   ],
   "metadata": {
    "collapsed": false,
    "pycharm": {
     "name": "#%% md\n"
    }
   }
  },
  {
   "cell_type": "code",
   "execution_count": 553,
   "outputs": [],
   "source": [
    "df_train = df_train.loc[df_train['height'] > 159]\n",
    "df_train = df_train.loc[df_train['height'] < 200]"
   ],
   "metadata": {
    "collapsed": false,
    "pycharm": {
     "name": "#%%\n"
    }
   }
  },
  {
   "cell_type": "markdown",
   "source": [
    "перепроверим корректность процедуры удаления данных"
   ],
   "metadata": {
    "collapsed": false,
    "pycharm": {
     "name": "#%% md\n"
    }
   }
  },
  {
   "cell_type": "code",
   "execution_count": 554,
   "outputs": [
    {
     "data": {
      "text/plain": "count   51471.000\nmean      167.880\nstd         5.829\nmin       160.000\n25%       164.000\n50%       167.000\n75%       171.000\nmax       198.000\nName: height, dtype: float64"
     },
     "metadata": {},
     "output_type": "display_data"
    },
    {
     "name": "stdout",
     "output_type": "stream",
     "text": [
      "median  167.0\n"
     ]
    },
    {
     "data": {
      "text/plain": "<Figure size 288x576 with 1 Axes>",
      "image/png": "[encoded data removed]"
     },
     "metadata": {},
     "output_type": "display_data"
    },
    {
     "data": {
      "text/plain": "<Figure size 432x288 with 1 Axes>",
      "image/png": "[encoded data removed]"
     },
     "metadata": {},
     "output_type": "display_data"
    }
   ],
   "source": [
    "basis_stat_f('height')"
   ],
   "metadata": {
    "collapsed": false,
    "pycharm": {
     "name": "#%%\n"
    }
   }
  },
  {
   "cell_type": "markdown",
   "source": [
    "изучив гистограмму, приходим к выводу, что все, что выше 185 - единичные наблюдения. Стоит ли их удалять? Отличный вопрос: с одной стороны, это явные аномалии. С другой стороны - возможно, в этих аномалиях и кроются механизмы развития заболеваний ССС, заложенные природой (например, пациенты с дисплазией соединительной ткани высокие и худые - это синдром Марфана). **Принимаем решение: пока не удаляем. Если полученная модель не будет удовлетворять по метрике - попробуем поиграть с отсечением по данному показателю.**"
   ],
   "metadata": {
    "collapsed": false,
    "pycharm": {
     "name": "#%% md\n"
    }
   }
  },
  {
   "cell_type": "code",
   "execution_count": 555,
   "outputs": [
    {
     "data": {
      "text/plain": "count   51471.000\nmean       75.832\nstd        13.989\nmin        10.000\n25%        66.000\n50%        73.000\n75%        83.000\nmax       200.000\nName: weight, dtype: float64"
     },
     "metadata": {},
     "output_type": "display_data"
    },
    {
     "name": "stdout",
     "output_type": "stream",
     "text": [
      "median  73.0\n"
     ]
    },
    {
     "data": {
      "text/plain": "<Figure size 288x576 with 1 Axes>",
      "image/png": "[encoded data removed]"
     },
     "metadata": {},
     "output_type": "display_data"
    },
    {
     "data": {
      "text/plain": "<Figure size 432x288 with 1 Axes>",
      "image/png": "[encoded data removed]"
     },
     "metadata": {},
     "output_type": "display_data"
    }
   ],
   "source": [
    "basis_stat_f('weight')"
   ],
   "metadata": {
    "collapsed": false,
    "pycharm": {
     "name": "#%%\n"
    }
   }
  },
  {
   "cell_type": "markdown",
   "source": [
    "Изучив распределение веса, приходим к следующему выводу: мы предсказываем риск развития заболеваний ССС у взрослых => вес ниже 48 кг - кахексия, явная аномалия. Из курса патологической физиологии нам известно, что малый вес не является предиктором развития заболеваний ССС, в то время, как большой вес является. Принимаем решение: визуально оценивая boxplot, убираем выборосы менее 48 кг, в тоже самое время выбросы вверх, выше 75 перцентиля пока оставляем: будем действовать по принципу, аналогично выше озвученному."
   ],
   "metadata": {
    "collapsed": false,
    "pycharm": {
     "name": "#%% md\n"
    }
   }
  },
  {
   "cell_type": "code",
   "execution_count": 556,
   "outputs": [],
   "source": [
    "df_train = df_train.loc[df_train['weight'] > 48]"
   ],
   "metadata": {
    "collapsed": false,
    "pycharm": {
     "name": "#%%\n"
    }
   }
  },
  {
   "cell_type": "code",
   "execution_count": 557,
   "outputs": [
    {
     "data": {
      "text/plain": "count   51292.000\nmean       75.941\nstd        13.888\nmin        49.000\n25%        66.000\n50%        74.000\n75%        84.000\nmax       200.000\nName: weight, dtype: float64"
     },
     "metadata": {},
     "output_type": "display_data"
    },
    {
     "name": "stdout",
     "output_type": "stream",
     "text": [
      "median  74.0\n"
     ]
    },
    {
     "data": {
      "text/plain": "<Figure size 288x576 with 1 Axes>",
      "image/png": "[encoded data removed]"
     },
     "metadata": {},
     "output_type": "display_data"
    },
    {
     "data": {
      "text/plain": "<Figure size 432x288 with 1 Axes>",
      "image/png": "[encoded data removed]"
     },
     "metadata": {},
     "output_type": "display_data"
    }
   ],
   "source": [
    "basis_stat_f('weight')"
   ],
   "metadata": {
    "collapsed": false,
    "pycharm": {
     "name": "#%%\n"
    }
   }
  },
  {
   "cell_type": "code",
   "execution_count": 558,
   "outputs": [
    {
     "data": {
      "text/plain": "count   51292.000\nmean      129.182\nstd       169.817\nmin      -150.000\n25%       120.000\n50%       120.000\n75%       140.000\nmax     16020.000\nName: ap_hi, dtype: float64"
     },
     "metadata": {},
     "output_type": "display_data"
    },
    {
     "name": "stdout",
     "output_type": "stream",
     "text": [
      "median  120.0\n"
     ]
    },
    {
     "data": {
      "text/plain": "<Figure size 288x576 with 1 Axes>",
      "image/png": "[encoded data removed]"
     },
     "metadata": {},
     "output_type": "display_data"
    },
    {
     "data": {
      "text/plain": "<Figure size 432x288 with 1 Axes>",
      "image/png": "[encoded data removed]"
     },
     "metadata": {},
     "output_type": "display_data"
    }
   ],
   "source": [
    "basis_stat_f('ap_hi')"
   ],
   "metadata": {
    "collapsed": false,
    "pycharm": {
     "name": "#%%\n"
    }
   }
  },
  {
   "cell_type": "code",
   "execution_count": 559,
   "outputs": [
    {
     "data": {
      "text/plain": " 120     21717\n 140      6802\n 130      6458\n 110      5997\n 150      3194\n         ...  \n 1620        1\n 96          1\n 199         1\n-150         1\n 2000        1\nName: ap_hi, Length: 144, dtype: int64"
     },
     "execution_count": 559,
     "metadata": {},
     "output_type": "execute_result"
    }
   ],
   "source": [
    "df_train['ap_hi'].value_counts()"
   ],
   "metadata": {
    "collapsed": false,
    "pycharm": {
     "name": "#%%\n"
    }
   }
  },
  {
   "cell_type": "code",
   "execution_count": 560,
   "outputs": [
    {
     "data": {
      "text/plain": "35040     -150\n23988     -140\n25240     -120\n46627     -120\n16021     -115\n         ...  \n25464    14020\n47253    14020\n46912    14020\n25519    14020\n40852    16020\nName: ap_hi, Length: 51292, dtype: int64"
     },
     "execution_count": 560,
     "metadata": {},
     "output_type": "execute_result"
    }
   ],
   "source": [
    "df_train['ap_hi'].sort_values()"
   ],
   "metadata": {
    "collapsed": false,
    "pycharm": {
     "name": "#%%\n"
    }
   }
  },
  {
   "cell_type": "code",
   "execution_count": 561,
   "outputs": [],
   "source": [
    "df_train['ap_hi'] = df_train['ap_hi'].abs()"
   ],
   "metadata": {
    "collapsed": false,
    "pycharm": {
     "name": "#%%\n"
    }
   }
  },
  {
   "cell_type": "code",
   "execution_count": 562,
   "outputs": [
    {
     "data": {
      "text/plain": "count   51292.000\nmean      129.211\nstd       169.795\nmin         1.000\n25%       120.000\n50%       120.000\n75%       140.000\nmax     16020.000\nName: ap_hi, dtype: float64"
     },
     "metadata": {},
     "output_type": "display_data"
    },
    {
     "name": "stdout",
     "output_type": "stream",
     "text": [
      "median  120.0\n"
     ]
    },
    {
     "data": {
      "text/plain": "<Figure size 288x576 with 1 Axes>",
      "image/png": "[encoded data removed]"
     },
     "metadata": {},
     "output_type": "display_data"
    },
    {
     "data": {
      "text/plain": "<Figure size 432x288 with 1 Axes>",
      "image/png": "[encoded data removed]"
     },
     "metadata": {},
     "output_type": "display_data"
    }
   ],
   "source": [
    "basis_stat_f('ap_hi')\n"
   ],
   "metadata": {
    "collapsed": false,
    "pycharm": {
     "name": "#%%\n"
    }
   }
  },
  {
   "cell_type": "code",
   "execution_count": 563,
   "outputs": [
    {
     "name": "stdout",
     "output_type": "stream",
     "text": [
      "<class 'pandas.core.frame.DataFrame'>\n",
      "Int64Index: 51292 entries, 0 to 69999\n",
      "Data columns (total 12 columns):\n",
      " #   Column       Non-Null Count  Dtype  \n",
      "---  ------       --------------  -----  \n",
      " 0   age          51292 non-null  float64\n",
      " 1   gender       51292 non-null  int64  \n",
      " 2   height       51292 non-null  int64  \n",
      " 3   weight       51292 non-null  float64\n",
      " 4   ap_hi        51292 non-null  int64  \n",
      " 5   ap_lo        51292 non-null  int64  \n",
      " 6   cholesterol  51292 non-null  int64  \n",
      " 7   gluc         51292 non-null  int64  \n",
      " 8   smoke        51292 non-null  int64  \n",
      " 9   alco         51292 non-null  int64  \n",
      " 10  active       51292 non-null  int64  \n",
      " 11  cardio       51292 non-null  int64  \n",
      "dtypes: float64(2), int64(10)\n",
      "memory usage: 5.1 MB\n"
     ]
    }
   ],
   "source": [
    "df_train.info()"
   ],
   "metadata": {
    "collapsed": false,
    "pycharm": {
     "name": "#%%\n"
    }
   }
  },
  {
   "cell_type": "code",
   "execution_count": 564,
   "outputs": [],
   "source": [
    "df_train = df_train.loc[df_train['ap_hi'] < 2500]\n",
    "#df_train = df_train.loc[df_train['ap_hi'] > 60]"
   ],
   "metadata": {
    "collapsed": false,
    "pycharm": {
     "name": "#%%\n"
    }
   }
  },
  {
   "cell_type": "code",
   "execution_count": 565,
   "outputs": [
    {
     "data": {
      "text/plain": "count   51284.000\nmean      127.132\nstd        28.055\nmin         1.000\n25%       120.000\n50%       120.000\n75%       140.000\nmax      2000.000\nName: ap_hi, dtype: float64"
     },
     "metadata": {},
     "output_type": "display_data"
    },
    {
     "name": "stdout",
     "output_type": "stream",
     "text": [
      "median  120.0\n"
     ]
    },
    {
     "data": {
      "text/plain": "<Figure size 288x576 with 1 Axes>",
      "image/png": "[encoded data removed]"
     },
     "metadata": {},
     "output_type": "display_data"
    },
    {
     "data": {
      "text/plain": "<Figure size 432x288 with 1 Axes>",
      "image/png": "[encoded data removed]"
     },
     "metadata": {},
     "output_type": "display_data"
    }
   ],
   "source": [
    "basis_stat_f('ap_hi')"
   ],
   "metadata": {
    "collapsed": false,
    "pycharm": {
     "name": "#%%\n"
    }
   }
  },
  {
   "cell_type": "code",
   "execution_count": 566,
   "outputs": [
    {
     "data": {
      "text/plain": "69370    2000\n28147    1620\n13895    1500\n8915     1420\n43208    1420\n         ... \n66315      10\n57909      10\n5382        7\n42334       1\n8757        1\nName: ap_hi, Length: 51284, dtype: int64"
     },
     "execution_count": 566,
     "metadata": {},
     "output_type": "execute_result"
    }
   ],
   "source": [
    "df_train['ap_hi'].sort_values(ascending = False)"
   ],
   "metadata": {
    "collapsed": false,
    "pycharm": {
     "name": "#%%\n"
    }
   }
  },
  {
   "cell_type": "code",
   "execution_count": 567,
   "outputs": [
    {
     "data": {
      "text/plain": "120     21719\n140      6803\n130      6458\n110      5997\n150      3195\n        ...  \n191         1\n1500        1\n181         1\n174         1\n2000        1\nName: ap_hi, Length: 134, dtype: int64"
     },
     "execution_count": 567,
     "metadata": {},
     "output_type": "execute_result"
    }
   ],
   "source": [
    "df_train['ap_hi'].value_counts()"
   ],
   "metadata": {
    "collapsed": false,
    "pycharm": {
     "name": "#%%\n"
    }
   }
  },
  {
   "cell_type": "code",
   "execution_count": 568,
   "outputs": [],
   "source": [
    "def sys(row):\n",
    "    row = row['ap_hi']\n",
    "    if row == 1:\n",
    "        return row * 100\n",
    "    elif row in range(7, 21):\n",
    "        return  10\n",
    "    elif row > 1000:\n",
    "        return row / 10\n",
    "    else: return row\n"
   ],
   "metadata": {
    "collapsed": false,
    "pycharm": {
     "name": "#%%\n"
    }
   }
  },
  {
   "cell_type": "code",
   "execution_count": 569,
   "outputs": [],
   "source": [
    "df_train['ap_hi'] = df_train.apply(sys, axis = 1)"
   ],
   "metadata": {
    "collapsed": false,
    "pycharm": {
     "name": "#%%\n"
    }
   }
  },
  {
   "cell_type": "code",
   "execution_count": 570,
   "outputs": [
    {
     "data": {
      "text/plain": "53982   960.000\n4817    909.000\n31783   907.000\n17713   907.000\n23867   906.000\n          ...  \n62719    10.000\n45232    10.000\n927      10.000\n55047    10.000\n22670    10.000\nName: ap_hi, Length: 51284, dtype: float64"
     },
     "execution_count": 570,
     "metadata": {},
     "output_type": "execute_result"
    }
   ],
   "source": [
    "df_train['ap_hi'].sort_values(ascending = False)"
   ],
   "metadata": {
    "collapsed": false,
    "pycharm": {
     "name": "#%%\n"
    }
   }
  },
  {
   "cell_type": "code",
   "execution_count": 571,
   "outputs": [],
   "source": [
    "df_train = df_train.loc[df_train['ap_hi'] < 310]"
   ],
   "metadata": {
    "collapsed": false,
    "pycharm": {
     "name": "#%%\n"
    }
   }
  },
  {
   "cell_type": "code",
   "execution_count": 572,
   "outputs": [
    {
     "data": {
      "text/plain": "count   51274.000\nmean      126.712\nstd        17.591\nmin        10.000\n25%       120.000\n50%       120.000\n75%       140.000\nmax       309.000\nName: ap_hi, dtype: float64"
     },
     "metadata": {},
     "output_type": "display_data"
    },
    {
     "name": "stdout",
     "output_type": "stream",
     "text": [
      "median  120.0\n"
     ]
    },
    {
     "data": {
      "text/plain": "<Figure size 288x576 with 1 Axes>",
      "image/png": "[encoded data removed]"
     },
     "metadata": {},
     "output_type": "display_data"
    },
    {
     "data": {
      "text/plain": "<Figure size 432x288 with 1 Axes>",
      "image/png": "[encoded data removed]"
     },
     "metadata": {},
     "output_type": "display_data"
    }
   ],
   "source": [
    "basis_stat_f('ap_hi')"
   ],
   "metadata": {
    "collapsed": false,
    "pycharm": {
     "name": "#%%\n"
    }
   }
  },
  {
   "cell_type": "code",
   "execution_count": 573,
   "outputs": [
    {
     "data": {
      "text/plain": "count   51274.000\nmean       96.524\nstd       195.881\nmin       -70.000\n25%        80.000\n50%        80.000\n75%        90.000\nmax     11000.000\nName: ap_lo, dtype: float64"
     },
     "metadata": {},
     "output_type": "display_data"
    },
    {
     "name": "stdout",
     "output_type": "stream",
     "text": [
      "median  80.0\n"
     ]
    },
    {
     "data": {
      "text/plain": "<Figure size 288x576 with 1 Axes>",
      "image/png": "[encoded data removed]"
     },
     "metadata": {},
     "output_type": "display_data"
    },
    {
     "data": {
      "text/plain": "<Figure size 432x288 with 1 Axes>",
      "image/png": "[encoded data removed]"
     },
     "metadata": {},
     "output_type": "display_data"
    }
   ],
   "source": [
    "basis_stat_f('ap_lo')"
   ],
   "metadata": {
    "collapsed": false,
    "pycharm": {
     "name": "#%%\n"
    }
   }
  },
  {
   "cell_type": "code",
   "execution_count": 574,
   "outputs": [],
   "source": [
    "df_train = df_train.loc[df_train['ap_lo'] < 2000]"
   ],
   "metadata": {
    "collapsed": false,
    "pycharm": {
     "name": "#%%\n"
    }
   }
  },
  {
   "cell_type": "code",
   "execution_count": 575,
   "outputs": [
    {
     "data": {
      "text/plain": "count   51253.000\nmean       93.277\nstd       105.735\nmin       -70.000\n25%        80.000\n50%        80.000\n75%        90.000\nmax      1900.000\nName: ap_lo, dtype: float64"
     },
     "metadata": {},
     "output_type": "display_data"
    },
    {
     "name": "stdout",
     "output_type": "stream",
     "text": [
      "median  80.0\n"
     ]
    },
    {
     "data": {
      "text/plain": "<Figure size 288x576 with 1 Axes>",
      "image/png": "[encoded data removed]"
     },
     "metadata": {},
     "output_type": "display_data"
    },
    {
     "data": {
      "text/plain": "<Figure size 432x288 with 1 Axes>",
      "image/png": "[encoded data removed]"
     },
     "metadata": {},
     "output_type": "display_data"
    }
   ],
   "source": [
    "basis_stat_f('ap_lo')"
   ],
   "metadata": {
    "collapsed": false,
    "pycharm": {
     "name": "#%%\n"
    }
   }
  },
  {
   "cell_type": "code",
   "execution_count": 576,
   "outputs": [],
   "source": [
    "df_train['ap_lo'] = df_train['ap_lo'].abs()"
   ],
   "metadata": {
    "collapsed": false,
    "pycharm": {
     "name": "#%%\n"
    }
   }
  },
  {
   "cell_type": "code",
   "execution_count": 577,
   "outputs": [
    {
     "data": {
      "text/plain": "56950       0\n43922       0\n22923       0\n45835       0\n27686       0\n         ... \n58216    1200\n66108    1400\n49217    1400\n29789    1900\n55291    1900\nName: ap_lo, Length: 51253, dtype: int64"
     },
     "execution_count": 577,
     "metadata": {},
     "output_type": "execute_result"
    }
   ],
   "source": [
    "df_train['ap_lo'].sort_values()"
   ],
   "metadata": {
    "collapsed": false,
    "pycharm": {
     "name": "#%%\n"
    }
   }
  },
  {
   "cell_type": "code",
   "execution_count": 578,
   "outputs": [],
   "source": [
    "def dyas(row):\n",
    "    row = row['ap_lo']\n",
    "    if row > 150:\n",
    "        return row / 10\n",
    "\n",
    "    else: return row"
   ],
   "metadata": {
    "collapsed": false,
    "pycharm": {
     "name": "#%%\n"
    }
   }
  },
  {
   "cell_type": "code",
   "execution_count": 579,
   "outputs": [],
   "source": [
    "df_train['ap_lo'] = df_train.apply(dyas, axis = 1)"
   ],
   "metadata": {
    "collapsed": false,
    "pycharm": {
     "name": "#%%\n"
    }
   }
  },
  {
   "cell_type": "code",
   "execution_count": 580,
   "outputs": [
    {
     "data": {
      "text/plain": "55291   190.000\n29789   190.000\n45637   150.000\n44029   150.000\n45793   150.000\n          ...  \n40330     0.000\n27686     0.000\n56950     0.000\n48049     0.000\n38370     0.000\nName: ap_lo, Length: 51253, dtype: float64"
     },
     "execution_count": 580,
     "metadata": {},
     "output_type": "execute_result"
    }
   ],
   "source": [
    "df_train['ap_lo'].sort_values(ascending = False)"
   ],
   "metadata": {
    "collapsed": false,
    "pycharm": {
     "name": "#%%\n"
    }
   }
  },
  {
   "cell_type": "code",
   "execution_count": 581,
   "outputs": [],
   "source": [
    "df_train = df_train.loc[df_train['ap_lo'] > 19]\n",
    "df_train = df_train.loc[df_train['ap_lo'] < 190]\n"
   ],
   "metadata": {
    "collapsed": false,
    "pycharm": {
     "name": "#%%\n"
    }
   }
  },
  {
   "cell_type": "code",
   "execution_count": 582,
   "outputs": [
    {
     "data": {
      "text/plain": "44085   150.000\n44029   150.000\n37555   150.000\n45793   150.000\n45637   150.000\n          ...  \n11820    20.000\n40961    20.000\n39896    20.000\n18958    20.000\n20135    20.000\nName: ap_lo, Length: 51215, dtype: float64"
     },
     "execution_count": 582,
     "metadata": {},
     "output_type": "execute_result"
    }
   ],
   "source": [
    "df_train['ap_lo'].sort_values(ascending = False)\n"
   ],
   "metadata": {
    "collapsed": false,
    "pycharm": {
     "name": "#%%\n"
    }
   }
  },
  {
   "cell_type": "code",
   "execution_count": 583,
   "outputs": [],
   "source": [
    "df_train_tmp = df_train[['ap_hi', 'ap_lo']]\n",
    "df_train['ap_hi'], df_train['ap_lo'] = df_train_tmp.max(axis = 1), df_train_tmp.min(axis = 1)"
   ],
   "metadata": {
    "collapsed": false,
    "pycharm": {
     "name": "#%%\n"
    }
   }
  },
  {
   "cell_type": "markdown",
   "source": [
    "изучим корреляцию числовых признаков"
   ],
   "metadata": {
    "collapsed": false,
    "pycharm": {
     "name": "#%% md\n"
    }
   }
  },
  {
   "cell_type": "code",
   "execution_count": 584,
   "outputs": [
    {
     "data": {
      "text/plain": "     age  gender  height  weight   ap_hi   ap_lo  cholesterol  gluc  smoke  \\\n0 50.392       2     168  62.000 110.000  80.000            1     1      0   \n2 51.663       1     165  64.000 130.000  70.000            3     1      0   \n3 48.282       2     169  82.000 150.000 100.000            1     1      0   \n7 61.874       2     178  95.000 130.000  90.000            3     3      0   \n9 54.340       1     164  68.000 110.000  60.000            1     1      0   \n\n   alco  active  cardio  \n0     0       1       0  \n2     0       0       1  \n3     0       1       1  \n7     0       1       1  \n9     0       0       0  ",
      "text/html": "<div>\n<style scoped>\n    .dataframe tbody tr th:only-of-type {\n        vertical-align: middle;\n    }\n\n    .dataframe tbody tr th {\n        vertical-align: top;\n    }\n\n    .dataframe thead th {\n        text-align: right;\n    }\n</style>\n<table border=\"1\" class=\"dataframe\">\n  <thead>\n    <tr style=\"text-align: right;\">\n      <th></th>\n      <th>age</th>\n      <th>gender</th>\n      <th>height</th>\n      <th>weight</th>\n      <th>ap_hi</th>\n      <th>ap_lo</th>\n      <th>cholesterol</th>\n      <th>gluc</th>\n      <th>smoke</th>\n      <th>alco</th>\n      <th>active</th>\n      <th>cardio</th>\n    </tr>\n  </thead>\n  <tbody>\n    <tr>\n      <th>0</th>\n      <td>50.392</td>\n      <td>2</td>\n      <td>168</td>\n      <td>62.000</td>\n      <td>110.000</td>\n      <td>80.000</td>\n      <td>1</td>\n      <td>1</td>\n      <td>0</td>\n      <td>0</td>\n      <td>1</td>\n      <td>0</td>\n    </tr>\n    <tr>\n      <th>2</th>\n      <td>51.663</td>\n      <td>1</td>\n      <td>165</td>\n      <td>64.000</td>\n      <td>130.000</td>\n      <td>70.000</td>\n      <td>3</td>\n      <td>1</td>\n      <td>0</td>\n      <td>0</td>\n      <td>0</td>\n      <td>1</td>\n    </tr>\n    <tr>\n      <th>3</th>\n      <td>48.282</td>\n      <td>2</td>\n      <td>169</td>\n      <td>82.000</td>\n      <td>150.000</td>\n      <td>100.000</td>\n      <td>1</td>\n      <td>1</td>\n      <td>0</td>\n      <td>0</td>\n      <td>1</td>\n      <td>1</td>\n    </tr>\n    <tr>\n      <th>7</th>\n      <td>61.874</td>\n      <td>2</td>\n      <td>178</td>\n      <td>95.000</td>\n      <td>130.000</td>\n      <td>90.000</td>\n      <td>3</td>\n      <td>3</td>\n      <td>0</td>\n      <td>0</td>\n      <td>1</td>\n      <td>1</td>\n    </tr>\n    <tr>\n      <th>9</th>\n      <td>54.340</td>\n      <td>1</td>\n      <td>164</td>\n      <td>68.000</td>\n      <td>110.000</td>\n      <td>60.000</td>\n      <td>1</td>\n      <td>1</td>\n      <td>0</td>\n      <td>0</td>\n      <td>0</td>\n      <td>0</td>\n    </tr>\n  </tbody>\n</table>\n</div>"
     },
     "execution_count": 584,
     "metadata": {},
     "output_type": "execute_result"
    }
   ],
   "source": [
    "df_train.head()"
   ],
   "metadata": {
    "collapsed": false,
    "pycharm": {
     "name": "#%%\n"
    }
   }
  },
  {
   "cell_type": "code",
   "execution_count": 585,
   "outputs": [],
   "source": [
    "df_train_nk = df_train.drop(columns = ['smoke', 'alco', 'active', 'cardio'])"
   ],
   "metadata": {
    "collapsed": false,
    "pycharm": {
     "name": "#%%\n"
    }
   }
  },
  {
   "cell_type": "code",
   "execution_count": 586,
   "outputs": [
    {
     "data": {
      "text/plain": "<AxesSubplot:>"
     },
     "execution_count": 586,
     "metadata": {},
     "output_type": "execute_result"
    },
    {
     "data": {
      "text/plain": "<Figure size 1224x720 with 2 Axes>",
      "image/png": "[encoded data removed]"
     },
     "metadata": {},
     "output_type": "display_data"
    }
   ],
   "source": [
    "# корреляция между разными значениями\n",
    "corr = df_train_nk.corr()\n",
    "\n",
    "# установка matplotlib plot конфигурации\n",
    "f, ax = plt.subplots(figsize=(17, 10))\n",
    "\n",
    "# задаём схему графика\n",
    "mask = np.triu(np.ones_like(corr, dtype=bool))\n",
    "\n",
    "# устанавливаем цвет\n",
    "cmap = sns.diverging_palette(230, 20, as_cmap=True)\n",
    "\n",
    "\n",
    "# выводим график\n",
    "sns.heatmap(corr, annot=True, mask = mask, cmap=cmap)"
   ],
   "metadata": {
    "collapsed": false,
    "pycharm": {
     "name": "#%%\n"
    }
   }
  },
  {
   "cell_type": "markdown",
   "source": [
    "### <a id='toc1_1_1_'></a>[Шаг 3. Создание предиктивной модели ML](#toc0_)"
   ],
   "metadata": {
    "collapsed": false,
    "pycharm": {
     "name": "#%% md\n"
    }
   }
  },
  {
   "cell_type": "markdown",
   "source": [
    "В качестве основной метрики будем использовать метрику AUC-ROC, репрезентативную условиям задачи.\n"
   ],
   "metadata": {
    "collapsed": false,
    "pycharm": {
     "name": "#%% md\n"
    }
   }
  },
  {
   "cell_type": "code",
   "execution_count": 587,
   "outputs": [
    {
     "name": "stdout",
     "output_type": "stream",
     "text": [
      "<class 'pandas.core.frame.DataFrame'>\n",
      "Int64Index: 51215 entries, 0 to 69999\n",
      "Data columns (total 12 columns):\n",
      " #   Column       Non-Null Count  Dtype  \n",
      "---  ------       --------------  -----  \n",
      " 0   age          51215 non-null  float64\n",
      " 1   gender       51215 non-null  int64  \n",
      " 2   height       51215 non-null  int64  \n",
      " 3   weight       51215 non-null  float64\n",
      " 4   ap_hi        51215 non-null  float64\n",
      " 5   ap_lo        51215 non-null  float64\n",
      " 6   cholesterol  51215 non-null  int64  \n",
      " 7   gluc         51215 non-null  int64  \n",
      " 8   smoke        51215 non-null  int64  \n",
      " 9   alco         51215 non-null  int64  \n",
      " 10  active       51215 non-null  int64  \n",
      " 11  cardio       51215 non-null  int64  \n",
      "dtypes: float64(4), int64(8)\n",
      "memory usage: 5.1 MB\n"
     ]
    }
   ],
   "source": [
    "df_train.info()"
   ],
   "metadata": {
    "collapsed": false,
    "pycharm": {
     "name": "#%%\n"
    }
   }
  },
  {
   "cell_type": "markdown",
   "source": [],
   "metadata": {
    "collapsed": false,
    "pycharm": {
     "name": "#%% md\n"
    }
   }
  },
  {
   "cell_type": "markdown",
   "source": [
    "разбиваем данные по 3 датафреймам на обучающую и валидационную выборки"
   ],
   "metadata": {
    "collapsed": false,
    "pycharm": {
     "name": "#%% md\n"
    }
   }
  },
  {
   "cell_type": "code",
   "execution_count": 588,
   "outputs": [],
   "source": [
    "df_0_train, df_0_valid = train_test_split(df_train, test_size=0.25, random_state=12345)"
   ],
   "metadata": {
    "collapsed": false,
    "pycharm": {
     "name": "#%%\n"
    }
   }
  },
  {
   "cell_type": "markdown",
   "source": [],
   "metadata": {
    "collapsed": false,
    "pycharm": {
     "name": "#%% md\n"
    }
   }
  },
  {
   "cell_type": "markdown",
   "source": [
    " проведем масштабирование признаков, с целью стандартизации"
   ],
   "metadata": {
    "collapsed": false,
    "pycharm": {
     "name": "#%% md\n"
    }
   }
  },
  {
   "cell_type": "code",
   "execution_count": 589,
   "outputs": [],
   "source": [
    "numeric = ['age', 'gender', 'height', 'weight', 'ap_hi', 'ap_lo', 'cholesterol', 'gluc', 'smoke', 'alco', 'active']"
   ],
   "metadata": {
    "collapsed": false,
    "pycharm": {
     "name": "#%%\n"
    }
   }
  },
  {
   "cell_type": "code",
   "execution_count": 590,
   "outputs": [],
   "source": [
    "#pd.options.mode.chained_assignment = None\n",
    "\n",
    "#scaler = StandardScaler()\n",
    "#scaler.fit(df_0_train[numeric])\n",
    "\n",
    "#df_0_train[numeric] = scaler.transform(df_0_train[numeric])\n",
    "#df_0_valid[numeric] = scaler.transform(df_0_valid[numeric])\n",
    "#df_test[numeric] = scaler.transform(df_test[numeric])"
   ],
   "metadata": {
    "collapsed": false,
    "pycharm": {
     "name": "#%%\n"
    }
   }
  },
  {
   "cell_type": "markdown",
   "source": [],
   "metadata": {
    "collapsed": false,
    "pycharm": {
     "name": "#%% md\n"
    }
   }
  },
  {
   "cell_type": "markdown",
   "source": [
    "для обоих выборок, выделим в датасете целевой признак и проверим что получилось"
   ],
   "metadata": {
    "collapsed": false,
    "pycharm": {
     "name": "#%% md\n"
    }
   }
  },
  {
   "cell_type": "code",
   "execution_count": 591,
   "outputs": [],
   "source": [
    "target_train = df_0_train['cardio']\n",
    "features_train = df_0_train.drop('cardio', axis=1)\n",
    "target_valid = df_0_valid['cardio']\n",
    "features_valid = df_0_valid.drop('cardio', axis=1)"
   ],
   "metadata": {
    "collapsed": false,
    "pycharm": {
     "name": "#%%\n"
    }
   }
  },
  {
   "cell_type": "code",
   "execution_count": 592,
   "outputs": [
    {
     "data": {
      "text/plain": "(38411,)"
     },
     "execution_count": 592,
     "metadata": {},
     "output_type": "execute_result"
    }
   ],
   "source": [
    "target_train.shape"
   ],
   "metadata": {
    "collapsed": false,
    "pycharm": {
     "name": "#%%\n"
    }
   }
  },
  {
   "cell_type": "code",
   "execution_count": 593,
   "outputs": [
    {
     "data": {
      "text/plain": "(38411, 11)"
     },
     "execution_count": 593,
     "metadata": {},
     "output_type": "execute_result"
    }
   ],
   "source": [
    "features_train.shape"
   ],
   "metadata": {
    "collapsed": false,
    "pycharm": {
     "name": "#%%\n"
    }
   }
  },
  {
   "cell_type": "code",
   "execution_count": 594,
   "outputs": [
    {
     "data": {
      "text/plain": "(12804,)"
     },
     "execution_count": 594,
     "metadata": {},
     "output_type": "execute_result"
    }
   ],
   "source": [
    "target_valid.shape"
   ],
   "metadata": {
    "collapsed": false,
    "pycharm": {
     "name": "#%%\n"
    }
   }
  },
  {
   "cell_type": "code",
   "execution_count": 595,
   "outputs": [
    {
     "data": {
      "text/plain": "(12804, 11)"
     },
     "execution_count": 595,
     "metadata": {},
     "output_type": "execute_result"
    }
   ],
   "source": [
    "features_valid.shape"
   ],
   "metadata": {
    "collapsed": false,
    "pycharm": {
     "name": "#%%\n"
    }
   }
  },
  {
   "cell_type": "markdown",
   "source": [],
   "metadata": {
    "collapsed": false,
    "pycharm": {
     "name": "#%% md\n"
    }
   }
  },
  {
   "cell_type": "code",
   "execution_count": 596,
   "outputs": [
    {
     "ename": "NameError",
     "evalue": "name 'hjk' is not defined",
     "output_type": "error",
     "traceback": [
      "\u001B[1;31m---------------------------------------------------------------------------\u001B[0m",
      "\u001B[1;31mNameError\u001B[0m                                 Traceback (most recent call last)",
      "Input \u001B[1;32mIn [596]\u001B[0m, in \u001B[0;36m<cell line: 1>\u001B[1;34m()\u001B[0m\n\u001B[1;32m----> 1\u001B[0m \u001B[43mhjk\u001B[49m\n",
      "\u001B[1;31mNameError\u001B[0m: name 'hjk' is not defined"
     ]
    }
   ],
   "source": [
    "hjk"
   ],
   "metadata": {
    "collapsed": false,
    "pycharm": {
     "name": "#%%\n"
    }
   }
  },
  {
   "cell_type": "markdown",
   "source": [
    "подбор гиперпараметров через OPTUNA"
   ],
   "metadata": {
    "collapsed": false,
    "pycharm": {
     "name": "#%% md\n"
    }
   }
  },
  {
   "cell_type": "code",
   "execution_count": null,
   "outputs": [],
   "source": [
    "%%time\n",
    "def objective(trial):\n",
    "    random_state = 42\n",
    "    params = {\n",
    "        'n_estimators': trial.suggest_int('n_estimators', 10, 120),\n",
    "        'max_depth': trial.suggest_int('max_depth', 10, 50),\n",
    "        'min_samples_split': trial.suggest_int('min_samples_split', 1, 15),\n",
    "        'min_samples_leaf': trial.suggest_int('min_samples_leaf', 1, 15),\n",
    "        \"max_features\": trial.suggest_int(\"max_features\", 3, 15),\n",
    "        'bootstrap'  : trial.suggest_categorical('bootstrap', [True, False])\n",
    "    }\n",
    "    classifier_obj = RandomForestClassifier(random_state=23, **params)\n",
    "    result = cross_val_score(classifier_obj, features_train, target_train,n_jobs=-1, cv=3,scoring='roc_auc')\n",
    "    result = result.mean()\n",
    "    return result\n",
    "\n",
    "\n",
    "\n",
    "study = optuna.create_study(direction='maximize')\n",
    "study.optimize(objective, n_trials = 60)\n",
    "trial = study.best_trial\n",
    "\n",
    "\n",
    "print('AUC-ROC: {}'.format(trial.value))\n",
    "print(\"Best hyperparameters: {}\".format(trial.params))"
   ],
   "metadata": {
    "collapsed": false,
    "pycharm": {
     "name": "#%%\n"
    }
   }
  },
  {
   "cell_type": "code",
   "execution_count": null,
   "outputs": [],
   "source": [
    "df ="
   ],
   "metadata": {
    "collapsed": false,
    "pycharm": {
     "name": "#%%\n"
    }
   }
  },
  {
   "cell_type": "code",
   "execution_count": null,
   "outputs": [],
   "source": [
    "df_test.info()"
   ],
   "metadata": {
    "collapsed": false,
    "pycharm": {
     "name": "#%%\n"
    }
   }
  },
  {
   "cell_type": "code",
   "execution_count": null,
   "outputs": [],
   "source": [
    "\n",
    "data = {'age' : [45], 'gender' : [1], 'height' : [150], 'weight' : [120], 'ap_hi' : [180], 'ap_lo' : [120], 'cholesterol' : [2], 'gluc' : [2], 'smoke' : [1], 'alco' : [1], 'active' : [0] }\n",
    "#features_test = pd.DataFrame(data)\n"
   ],
   "metadata": {
    "collapsed": false,
    "pycharm": {
     "name": "#%%\n"
    }
   }
  },
  {
   "cell_type": "code",
   "execution_count": null,
   "outputs": [],
   "source": [
    "#features_test"
   ],
   "metadata": {
    "collapsed": false,
    "pycharm": {
     "name": "#%%\n"
    }
   }
  },
  {
   "cell_type": "code",
   "execution_count": null,
   "outputs": [],
   "source": [
    "#features_test[numeric] = scaler.transform(features_test[numeric])"
   ],
   "metadata": {
    "collapsed": false,
    "pycharm": {
     "name": "#%%\n"
    }
   }
  },
  {
   "cell_type": "code",
   "execution_count": 597,
   "outputs": [],
   "source": [
    "features_test = df_test"
   ],
   "metadata": {
    "collapsed": false,
    "pycharm": {
     "name": "#%%\n"
    }
   }
  },
  {
   "cell_type": "code",
   "execution_count": 598,
   "outputs": [
    {
     "name": "stderr",
     "output_type": "stream",
     "text": [
      "C:\\Anaconda\\lib\\site-packages\\sklearn\\base.py:443: UserWarning: X has feature names, but RandomForestClassifier was fitted without feature names\n",
      "  warnings.warn(\n"
     ]
    }
   ],
   "source": [
    "model_rfc_nb = RandomForestClassifier(n_estimators=83, max_depth=10, random_state=23, class_weight='balanced')\n",
    "model_rfc_nb.fit(features_train.values, target_train.values)\n",
    "\n",
    "\n",
    "predict_rfc_nb = model_rfc_nb.predict(features_test.values)\n",
    "\n",
    "probabilities_rfc_nb = model_rfc_nb.predict_proba(features_test)\n",
    "probabilities_one_rfc_balanced =  probabilities_rfc_nb[:, 1]\n",
    "\n",
    "\n"
   ],
   "metadata": {
    "collapsed": false,
    "pycharm": {
     "name": "#%%\n"
    }
   }
  },
  {
   "cell_type": "code",
   "execution_count": 599,
   "outputs": [
    {
     "data": {
      "text/plain": "array([0.50398061, 0.58832154, 0.43096323, ..., 0.48215482, 0.37373533,\n       0.58740324])"
     },
     "execution_count": 599,
     "metadata": {},
     "output_type": "execute_result"
    }
   ],
   "source": [
    "probabilities_one_rfc_balanced"
   ],
   "metadata": {
    "collapsed": false,
    "pycharm": {
     "name": "#%%\n"
    }
   }
  },
  {
   "cell_type": "markdown",
   "source": [
    "записываем модель в бинарный вид, для коннекта с фронтендом"
   ],
   "metadata": {
    "collapsed": false,
    "pycharm": {
     "name": "#%% md\n"
    }
   }
  },
  {
   "cell_type": "code",
   "execution_count": 600,
   "outputs": [],
   "source": [
    "with open('model.pcl', 'wb') as fid:\n",
    "    dump(model_rfc_nb, fid)"
   ],
   "metadata": {
    "collapsed": false,
    "pycharm": {
     "name": "#%%\n"
    }
   }
  },
  {
   "cell_type": "code",
   "execution_count": null,
   "outputs": [],
   "source": [
    "pd.Series(predict_rfc_nb).value_counts()"
   ],
   "metadata": {
    "collapsed": false,
    "pycharm": {
     "name": "#%%\n"
    }
   }
  },
  {
   "cell_type": "code",
   "execution_count": null,
   "outputs": [],
   "source": [
    "pd.Series(probabilities_one_rfc_balanced)"
   ],
   "metadata": {
    "collapsed": false,
    "pycharm": {
     "name": "#%%\n"
    }
   }
  },
  {
   "cell_type": "code",
   "execution_count": null,
   "outputs": [],
   "source": [
    "cardio = pd.Series(probabilities_one_rfc_balanced)"
   ],
   "metadata": {
    "collapsed": false,
    "pycharm": {
     "name": "#%%\n"
    }
   }
  },
  {
   "cell_type": "code",
   "execution_count": null,
   "outputs": [],
   "source": [
    "df_test['cardio'] = cardio"
   ],
   "metadata": {
    "collapsed": false,
    "pycharm": {
     "name": "#%%\n"
    }
   }
  },
  {
   "cell_type": "code",
   "execution_count": null,
   "outputs": [],
   "source": [
    "df_test"
   ],
   "metadata": {
    "collapsed": false,
    "pycharm": {
     "name": "#%%\n"
    }
   }
  },
  {
   "cell_type": "code",
   "execution_count": null,
   "outputs": [],
   "source": [
    "df = df_test"
   ],
   "metadata": {
    "collapsed": false,
    "pycharm": {
     "name": "#%%\n"
    }
   }
  },
  {
   "cell_type": "code",
   "execution_count": null,
   "outputs": [],
   "source": [
    "df"
   ],
   "metadata": {
    "collapsed": false,
    "pycharm": {
     "name": "#%%\n"
    }
   }
  },
  {
   "cell_type": "markdown",
   "source": [],
   "metadata": {
    "collapsed": false,
    "pycharm": {
     "name": "#%% md\n"
    }
   }
  },
  {
   "cell_type": "code",
   "execution_count": null,
   "outputs": [],
   "source": [
    "pd.Series(model_rfc_nb.feature_importances_, features_train.columns).nlargest(20).plot(kind='barh')\n",
    "plt.title('Важность признаков')\n",
    "plt.xlabel('Влияние на предсказание ССЗ')\n",
    "plt.ylabel('Признаки')\n",
    "plt.tight_layout()\n",
    "plt.show()"
   ],
   "metadata": {
    "collapsed": false,
    "pycharm": {
     "name": "#%%\n"
    }
   }
  },
  {
   "cell_type": "code",
   "execution_count": null,
   "outputs": [],
   "source": [
    "df = df.drop(['age', 'gender', 'height', 'weight', 'ap_hi', 'ap_lo', 'cholesterol', 'gluc', 'smoke', 'alco', 'active'], axis = 1)"
   ],
   "metadata": {
    "collapsed": false,
    "pycharm": {
     "name": "#%%\n"
    }
   }
  },
  {
   "cell_type": "markdown",
   "source": [
    "строим график"
   ],
   "metadata": {
    "collapsed": false,
    "pycharm": {
     "name": "#%% md\n"
    }
   }
  },
  {
   "cell_type": "code",
   "execution_count": null,
   "outputs": [],
   "source": [
    "import seaborn as sns\n",
    "sns.pairplot(df_train[['gender','height','weight']],  hue='gender')#1-woman, 2-man"
   ],
   "metadata": {
    "collapsed": false,
    "pycharm": {
     "name": "#%%\n"
    }
   }
  },
  {
   "cell_type": "code",
   "execution_count": null,
   "outputs": [],
   "source": [],
   "metadata": {
    "collapsed": false,
    "pycharm": {
     "name": "#%%\n"
    }
   }
  }
 ],
 "metadata": {
  "kernelspec": {
   "display_name": "Python 3",
   "language": "python",
   "name": "python3"
  },
  "language_info": {
   "codemirror_mode": {
    "name": "ipython",
    "version": 2
   },
   "file_extension": ".py",
   "mimetype": "text/x-python",
   "name": "python",
   "nbconvert_exporter": "python",
   "pygments_lexer": "ipython2",
   "version": "2.7.6"
  }
 },
 "nbformat": 4,
 "nbformat_minor": 0
}